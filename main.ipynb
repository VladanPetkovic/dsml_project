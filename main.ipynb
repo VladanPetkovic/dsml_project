{
 "cells": [
  {
   "cell_type": "markdown",
   "source": [
    "## Preprocessing,..."
   ],
   "metadata": {
    "collapsed": false
   },
   "id": "8ee2d79abfd18b5e"
  },
  {
   "cell_type": "code",
   "outputs": [],
   "source": [
    "## imports..."
   ],
   "metadata": {
    "collapsed": false
   },
   "id": "495bf313c7ce2aae"
  }
 ],
 "metadata": {
  "kernelspec": {
   "display_name": "Python 3",
   "language": "python",
   "name": "python3"
  },
  "language_info": {
   "codemirror_mode": {
    "name": "ipython",
    "version": 2
   },
   "file_extension": ".py",
   "mimetype": "text/x-python",
   "name": "python",
   "nbconvert_exporter": "python",
   "pygments_lexer": "ipython2",
   "version": "2.7.6"
  }
 },
 "nbformat": 4,
 "nbformat_minor": 5
}
